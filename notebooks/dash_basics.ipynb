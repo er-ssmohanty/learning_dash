{
 "cells": [
  {
   "cell_type": "code",
   "execution_count": 1,
   "id": "250f40f7-c64c-454c-a32a-255983b529f6",
   "metadata": {},
   "outputs": [
    {
     "name": "stdout",
     "output_type": "stream",
     "text": [
      "Requirement already satisfied: dash in /home/explorer/.conda/envs/pydaas/lib/python3.9/site-packages (2.0.0)\n",
      "Requirement already satisfied: flask-compress in /home/explorer/.conda/envs/pydaas/lib/python3.9/site-packages (from dash) (0.0.0)\n",
      "Requirement already satisfied: dash-core-components==2.0.0 in /home/explorer/.conda/envs/pydaas/lib/python3.9/site-packages (from dash) (2.0.0)\n",
      "Requirement already satisfied: dash-table==5.0.0 in /home/explorer/.conda/envs/pydaas/lib/python3.9/site-packages (from dash) (5.0.0)\n",
      "Requirement already satisfied: Flask>=1.0.4 in /home/explorer/.conda/envs/pydaas/lib/python3.9/site-packages (from dash) (2.0.2)\n",
      "Requirement already satisfied: dash-html-components==2.0.0 in /home/explorer/.conda/envs/pydaas/lib/python3.9/site-packages (from dash) (2.0.0)\n",
      "Requirement already satisfied: plotly>=5.0.0 in /home/explorer/.conda/envs/pydaas/lib/python3.9/site-packages (from dash) (5.4.0)\n",
      "Requirement already satisfied: Werkzeug>=2.0 in /home/explorer/.conda/envs/pydaas/lib/python3.9/site-packages (from Flask>=1.0.4->dash) (2.0.1)\n",
      "Requirement already satisfied: click>=7.1.2 in /home/explorer/.conda/envs/pydaas/lib/python3.9/site-packages (from Flask>=1.0.4->dash) (8.0.3)\n",
      "Requirement already satisfied: itsdangerous>=2.0 in /home/explorer/.conda/envs/pydaas/lib/python3.9/site-packages (from Flask>=1.0.4->dash) (2.0.1)\n",
      "Requirement already satisfied: Jinja2>=3.0 in /home/explorer/.conda/envs/pydaas/lib/python3.9/site-packages (from Flask>=1.0.4->dash) (3.0.3)\n",
      "Requirement already satisfied: six in /home/explorer/.conda/envs/pydaas/lib/python3.9/site-packages (from plotly>=5.0.0->dash) (1.16.0)\n",
      "Requirement already satisfied: tenacity>=6.2.0 in /home/explorer/.conda/envs/pydaas/lib/python3.9/site-packages (from plotly>=5.0.0->dash) (8.0.1)\n",
      "Requirement already satisfied: brotli in /home/explorer/.conda/envs/pydaas/lib/python3.9/site-packages (from flask-compress->dash) (1.0.9)\n",
      "Requirement already satisfied: MarkupSafe>=2.0 in /home/explorer/.conda/envs/pydaas/lib/python3.9/site-packages (from Jinja2>=3.0->Flask>=1.0.4->dash) (2.0.1)\n"
     ]
    }
   ],
   "source": [
    "!pip install dash"
   ]
  },
  {
   "cell_type": "code",
   "execution_count": 2,
   "id": "c2a9d5e6-e90d-47d8-99b0-5fec949a7921",
   "metadata": {},
   "outputs": [
    {
     "name": "stderr",
     "output_type": "stream",
     "text": [
      "/tmp/ipykernel_125232/2948950040.py:4: UserWarning: \n",
      "The dash_html_components package is deprecated. Please replace\n",
      "`import dash_html_components as html` with `from dash import html`\n",
      "  import dash_html_components as html\n",
      "/tmp/ipykernel_125232/2948950040.py:5: UserWarning: \n",
      "The dash_core_components package is deprecated. Please replace\n",
      "`import dash_core_components as dcc` with `from dash import dcc`\n",
      "  import dash_core_components as dcc\n"
     ]
    }
   ],
   "source": [
    "import pandas as pd\n",
    "import plotly.express as px\n",
    "import dash\n",
    "import dash_html_components as html\n",
    "import dash_core_components as dcc"
   ]
  },
  {
   "cell_type": "code",
   "execution_count": 3,
   "id": "6ae68ac4-c7a1-45de-b9ae-6ffa59f70a43",
   "metadata": {},
   "outputs": [],
   "source": [
    "airline_data =  pd.read_csv('../data/airline_data.csv', \n",
    "                            encoding = \"ISO-8859-1\",\n",
    "                            dtype={'Div1Airport': str, 'Div1TailNum': str, \n",
    "                                   'Div2Airport': str, 'Div2TailNum': str})"
   ]
  },
  {
   "cell_type": "code",
   "execution_count": 4,
   "id": "a6b3137c-b219-466a-9c54-308e1ecfbb74",
   "metadata": {},
   "outputs": [],
   "source": [
    "data = airline_data.sample(n=500, random_state=42)"
   ]
  },
  {
   "cell_type": "code",
   "execution_count": 5,
   "id": "688f57b0-5378-4cb4-bf57-52586a7c7f2e",
   "metadata": {},
   "outputs": [],
   "source": [
    "fig = px.pie(data, values='Flights', names='DistanceGroup', title='Distance group proportion by flights')"
   ]
  },
  {
   "cell_type": "code",
   "execution_count": 6,
   "id": "757d8193-671d-4f02-bfc5-35548849f7ae",
   "metadata": {},
   "outputs": [],
   "source": [
    "\n",
    "# Create a dash application\n",
    "app = dash.Dash(__name__)\n",
    "\n",
    "# Get the layout of the application and adjust it.\n",
    "# Create an outer division using html.Div and add title to the dashboard using html.H1 component\n",
    "# Add description about the graph using HTML P (paragraph) component\n",
    "# Finally, add graph component.\n",
    "app.layout = html.Div(children=[#html.H1('Airline Dashboard',style={'textAlign': 'center', 'color': '#503D36', 'font-size': 40}),\n",
    "                                #html.P('Proportion of distance group (250 mile distance interval group) by flights.', style={'textAlign':'center', 'color': '#F57241'}),\n",
    "                                dcc.Graph(figure=fig)\n",
    "                                #dcc.Graph()\n",
    "                    ])\n"
   ]
  },
  {
   "cell_type": "code",
   "execution_count": 8,
   "id": "d65cdd7d-babb-4c7b-8679-1ab840b4a7f9",
   "metadata": {},
   "outputs": [
    {
     "name": "stdout",
     "output_type": "stream",
     "text": [
      "Dash is running on http://127.0.0.1:8050/\n",
      "\n",
      " * Serving Flask app '__main__' (lazy loading)\n",
      " * Environment: production\n",
      "\u001b[31m   WARNING: This is a development server. Do not use it in a production deployment.\u001b[0m\n",
      "\u001b[2m   Use a production WSGI server instead.\u001b[0m\n",
      " * Debug mode: off\n"
     ]
    },
    {
     "name": "stderr",
     "output_type": "stream",
     "text": [
      " * Running on http://127.0.0.1:8050/ (Press CTRL+C to quit)\n",
      "127.0.0.1 - - [13/Jan/2022 18:37:17] \"GET / HTTP/1.1\" 200 -\n",
      "127.0.0.1 - - [13/Jan/2022 18:37:17] \"GET /_dash-component-suites/dash/deps/polyfill@7.v2_0_0m1632235559.12.1.min.js HTTP/1.1\" 200 -\n",
      "127.0.0.1 - - [13/Jan/2022 18:37:17] \"GET /_dash-component-suites/dash/deps/react-dom@16.v2_0_0m1632235559.14.0.min.js HTTP/1.1\" 200 -\n",
      "127.0.0.1 - - [13/Jan/2022 18:37:17] \"GET /_dash-component-suites/dash/deps/react@16.v2_0_0m1632235559.14.0.min.js HTTP/1.1\" 200 -\n",
      "127.0.0.1 - - [13/Jan/2022 18:37:17] \"GET /_dash-component-suites/dash/deps/prop-types@15.v2_0_0m1632235559.7.2.min.js HTTP/1.1\" 200 -\n",
      "127.0.0.1 - - [13/Jan/2022 18:37:17] \"GET /_dash-component-suites/dash/html/dash_html_components.v2_0_0m1632235559.min.js HTTP/1.1\" 200 -\n",
      "127.0.0.1 - - [13/Jan/2022 18:37:17] \"GET /_dash-component-suites/dash/dash-renderer/build/dash_renderer.v2_0_0m1632235559.min.js HTTP/1.1\" 200 -\n",
      "127.0.0.1 - - [13/Jan/2022 18:37:17] \"GET /_dash-component-suites/dash/dcc/dash_core_components-shared.v2_0_0m1632235559.js HTTP/1.1\" 200 -\n",
      "127.0.0.1 - - [13/Jan/2022 18:37:17] \"GET /_dash-component-suites/dash/dcc/dash_core_components.v2_0_0m1632235559.js HTTP/1.1\" 200 -\n",
      "127.0.0.1 - - [13/Jan/2022 18:37:17] \"GET /_dash-component-suites/dash/dash_table/bundle.v5_0_0m1632235559.js HTTP/1.1\" 200 -\n",
      "127.0.0.1 - - [13/Jan/2022 18:37:18] \"GET /_dash-dependencies HTTP/1.1\" 200 -\n",
      "127.0.0.1 - - [13/Jan/2022 18:37:18] \"GET /_dash-layout HTTP/1.1\" 200 -\n",
      "127.0.0.1 - - [13/Jan/2022 18:37:18] \"GET /_dash-component-suites/dash/dcc/async-plotlyjs.js HTTP/1.1\" 200 -\n",
      "127.0.0.1 - - [13/Jan/2022 18:37:18] \"GET /_dash-component-suites/dash/dcc/async-graph.js HTTP/1.1\" 200 -\n"
     ]
    }
   ],
   "source": [
    "# Run the application                   \n",
    "if __name__ == '__main__':\n",
    "    app.run_server()"
   ]
  },
  {
   "cell_type": "code",
   "execution_count": null,
   "id": "ac4971c0-e2cf-426f-ab35-ac39c43b09e6",
   "metadata": {},
   "outputs": [],
   "source": []
  }
 ],
 "metadata": {
  "kernelspec": {
   "display_name": "Python 3 (ipykernel)",
   "language": "python",
   "name": "python3"
  },
  "language_info": {
   "codemirror_mode": {
    "name": "ipython",
    "version": 3
   },
   "file_extension": ".py",
   "mimetype": "text/x-python",
   "name": "python",
   "nbconvert_exporter": "python",
   "pygments_lexer": "ipython3",
   "version": "3.9.7"
  }
 },
 "nbformat": 4,
 "nbformat_minor": 5
}
